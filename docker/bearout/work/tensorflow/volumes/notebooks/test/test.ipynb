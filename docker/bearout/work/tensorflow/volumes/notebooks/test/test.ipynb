{
 "cells": [
  {
   "cell_type": "code",
   "execution_count": 1,
   "metadata": {},
   "outputs": [],
   "source": [
    "import tensorflow as tf"
   ]
  },
  {
   "cell_type": "code",
   "execution_count": 2,
   "metadata": {
    "scrolled": true
   },
   "outputs": [],
   "source": [
    "import numpy as np"
   ]
  },
  {
   "cell_type": "markdown",
   "metadata": {},
   "source": [
    "生成100個小於1的浮點數"
   ]
  },
  {
   "cell_type": "code",
   "execution_count": 3,
   "metadata": {},
   "outputs": [],
   "source": [
    "x_data = np.random.rand(100).astype(np.float32)"
   ]
  },
  {
   "cell_type": "code",
   "execution_count": 4,
   "metadata": {
    "scrolled": true
   },
   "outputs": [
    {
     "name": "stdout",
     "output_type": "stream",
     "text": [
      "[0.78945273 0.9897968  0.3313239  0.94409335 0.4217656  0.85719305\n",
      " 0.00162704 0.9248138  0.56128997 0.25756547 0.56912243 0.8913725\n",
      " 0.21669656 0.15180473 0.33245903 0.7033777  0.20762226 0.49204826\n",
      " 0.4337821  0.5429789  0.75484055 0.02888507 0.37810656 0.470792\n",
      " 0.14126807 0.3159728  0.6136207  0.41406617 0.16655491 0.9525972\n",
      " 0.66374433 0.26292372 0.0872017  0.38419604 0.21060108 0.98114586\n",
      " 0.63074493 0.56591254 0.6658826  0.8826935  0.6298287  0.77893126\n",
      " 0.6174922  0.01859988 0.8247398  0.43430367 0.25691822 0.7535462\n",
      " 0.48716226 0.20799342 0.35367718 0.66021854 0.8759951  0.35692674\n",
      " 0.48428366 0.5569054  0.11214627 0.0111978  0.7014103  0.9356669\n",
      " 0.7724629  0.82389766 0.30896217 0.9877312  0.86881757 0.07085446\n",
      " 0.8793974  0.61016065 0.48884645 0.07150314 0.21442069 0.71149355\n",
      " 0.83453923 0.31648317 0.32021165 0.12191915 0.5869455  0.59681636\n",
      " 0.41372615 0.10257307 0.2995144  0.0635315  0.6729314  0.9149172\n",
      " 0.51812196 0.91915077 0.1737276  0.56872    0.3079995  0.74570245\n",
      " 0.10242759 0.3371428  0.39351073 0.6404764  0.36153212 0.52126\n",
      " 0.00633082 0.466034   0.19580887 0.68035686]\n"
     ]
    }
   ],
   "source": [
    "print(x_data)"
   ]
  },
  {
   "cell_type": "code",
   "execution_count": 5,
   "metadata": {},
   "outputs": [],
   "source": [
    "y_data = x_data*0.1+0.3"
   ]
  },
  {
   "cell_type": "code",
   "execution_count": 6,
   "metadata": {},
   "outputs": [
    {
     "name": "stdout",
     "output_type": "stream",
     "text": [
      "[0.3789453  0.3989797  0.3331324  0.39440936 0.34217656 0.38571933\n",
      " 0.3001627  0.3924814  0.35612902 0.32575655 0.35691226 0.38913727\n",
      " 0.32166967 0.31518048 0.3332459  0.37033778 0.32076225 0.34920484\n",
      " 0.34337822 0.3542979  0.37548408 0.3028885  0.33781067 0.34707922\n",
      " 0.31412682 0.3315973  0.36136207 0.34140664 0.31665552 0.39525974\n",
      " 0.36637443 0.3262924  0.30872017 0.33841962 0.32106012 0.3981146\n",
      " 0.3630745  0.35659125 0.36658826 0.38826936 0.36298287 0.37789315\n",
      " 0.36174923 0.30186    0.382474   0.34343037 0.32569182 0.37535465\n",
      " 0.34871623 0.32079935 0.33536774 0.36602187 0.38759953 0.33569267\n",
      " 0.34842837 0.35569054 0.31121463 0.3011198  0.37014103 0.3935667\n",
      " 0.37724632 0.38238978 0.33089623 0.39877313 0.38688177 0.30708545\n",
      " 0.38793975 0.36101606 0.34888464 0.30715033 0.32144207 0.37114936\n",
      " 0.38345394 0.33164832 0.33202118 0.31219193 0.35869455 0.35968164\n",
      " 0.34137264 0.31025732 0.32995147 0.30635315 0.36729315 0.39149174\n",
      " 0.3518122  0.39191508 0.31737277 0.35687202 0.33079997 0.37457025\n",
      " 0.31024277 0.3337143  0.3393511  0.36404765 0.3361532  0.352126\n",
      " 0.3006331  0.34660342 0.3195809  0.3680357 ]\n"
     ]
    }
   ],
   "source": [
    "print(y_data)"
   ]
  },
  {
   "cell_type": "code",
   "execution_count": 7,
   "metadata": {},
   "outputs": [],
   "source": [
    "Weights = tf.Variable(tf.random_uniform([1],-1.0,1.0))"
   ]
  },
  {
   "cell_type": "code",
   "execution_count": 8,
   "metadata": {},
   "outputs": [
    {
     "name": "stdout",
     "output_type": "stream",
     "text": [
      "<tf.Variable 'Variable:0' shape=(1,) dtype=float32_ref>\n"
     ]
    }
   ],
   "source": [
    "print(Weights)"
   ]
  },
  {
   "cell_type": "code",
   "execution_count": 9,
   "metadata": {},
   "outputs": [],
   "source": [
    "biases = tf.Variable(tf.zeros([1]))"
   ]
  },
  {
   "cell_type": "code",
   "execution_count": 10,
   "metadata": {},
   "outputs": [],
   "source": [
    "y = Weights*x_data + biases"
   ]
  },
  {
   "cell_type": "code",
   "execution_count": 11,
   "metadata": {},
   "outputs": [],
   "source": [
    "loss = tf.reduce_mean(tf.square(y-y_data))"
   ]
  },
  {
   "cell_type": "code",
   "execution_count": 12,
   "metadata": {},
   "outputs": [],
   "source": [
    "optimizer = tf.train.GradientDescentOptimizer(0.5)  #learning rate"
   ]
  },
  {
   "cell_type": "code",
   "execution_count": 13,
   "metadata": {},
   "outputs": [],
   "source": [
    "train = optimizer.minimize(loss)"
   ]
  },
  {
   "cell_type": "code",
   "execution_count": 14,
   "metadata": {},
   "outputs": [],
   "source": [
    "#init = tf.initialize_all_variables()\n",
    "init = tf.global_variables_initializer()"
   ]
  },
  {
   "cell_type": "code",
   "execution_count": 15,
   "metadata": {},
   "outputs": [],
   "source": [
    "sess = tf.Session()"
   ]
  },
  {
   "cell_type": "code",
   "execution_count": 16,
   "metadata": {},
   "outputs": [],
   "source": [
    "sess.run(init) "
   ]
  },
  {
   "cell_type": "code",
   "execution_count": 17,
   "metadata": {
    "scrolled": false
   },
   "outputs": [
    {
     "name": "stdout",
     "output_type": "stream",
     "text": [
      "(0, array([-0.38535464], dtype=float32), array([0.7595874], dtype=float32))\n",
      "(20, array([-0.05515066], dtype=float32), array([0.3815303], dtype=float32))\n",
      "(40, array([0.05773774], dtype=float32), array([0.32220846], dtype=float32))\n",
      "(60, array([0.08848798], dtype=float32), array([0.30604947], dtype=float32))\n",
      "(80, array([0.09686419], dtype=float32), array([0.30164784], dtype=float32))\n",
      "(100, array([0.09914581], dtype=float32), array([0.30044886], dtype=float32))\n",
      "(120, array([0.09976732], dtype=float32), array([0.3001223], dtype=float32))\n",
      "(140, array([0.09993663], dtype=float32), array([0.3000333], dtype=float32))\n",
      "(160, array([0.09998273], dtype=float32), array([0.3000091], dtype=float32))\n",
      "(180, array([0.09999531], dtype=float32), array([0.3000025], dtype=float32))\n",
      "(200, array([0.09999873], dtype=float32), array([0.30000067], dtype=float32))\n"
     ]
    }
   ],
   "source": [
    "for step in range(201):\n",
    "    sess.run(train)\n",
    "    if step % 20 ==0:\n",
    "        print(step,sess.run(Weights),sess.run(biases))"
   ]
  },
  {
   "cell_type": "code",
   "execution_count": null,
   "metadata": {},
   "outputs": [],
   "source": []
  }
 ],
 "metadata": {
  "kernelspec": {
   "display_name": "Python 2",
   "language": "python",
   "name": "python2"
  },
  "language_info": {
   "codemirror_mode": {
    "name": "ipython",
    "version": 2
   },
   "file_extension": ".py",
   "mimetype": "text/x-python",
   "name": "python",
   "nbconvert_exporter": "python",
   "pygments_lexer": "ipython2",
   "version": "2.7.12"
  }
 },
 "nbformat": 4,
 "nbformat_minor": 2
}
