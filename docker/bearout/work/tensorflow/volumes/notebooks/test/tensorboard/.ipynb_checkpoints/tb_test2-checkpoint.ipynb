{
 "cells": [
  {
   "cell_type": "code",
   "execution_count": null,
   "metadata": {},
   "outputs": [],
   "source": [
    "import tensorflow as tf\n",
    "import numpy as np\n",
    "\n",
    "# 定義一個添加層的函數\n",
    "def add_layer(inputs, input_tensors, output_tensors, activation_function = None):\n",
    "    with tf.name_scope('Layer'):\n",
    "        with tf.name_scope('Weights'):\n",
    "            W = tf.Variable(tf.random_normal([input_tensors, output_tensors]))\n",
    "        with tf.name_scope('Biases'):\n",
    "            b = tf.Variable(tf.zeros([1, output_tensors]))\n",
    "        with tf.name_scope('Formula'):\n",
    "            formula = tf.add(tf.matmul(inputs, W), b)\n",
    "        if activation_function is None:\n",
    "            outputs = formula\n",
    "        else:\n",
    "            outputs = activation_function(formula)\n",
    "        return outputs\n",
    "\n",
    "# 準備資料\n",
    "x_data = np.random.rand(100)\n",
    "x_data = x_data.reshape(len(x_data), 1)\n",
    "y_data = x_data * 0.1 + 0.3\n",
    "\n",
    "# 建立 Feeds\n",
    "with tf.name_scope('Inputs'):\n",
    "    x_feeds = tf.placeholder(tf.float32, shape = [None, 1])\n",
    "    y_feeds = tf.placeholder(tf.float32, shape = [None, 1])\n",
    "\n",
    "# 添加 1 個隱藏層\n",
    "hidden_layer = add_layer(x_feeds, input_tensors = 1, output_tensors = 10, activation_function = None)\n",
    "\n",
    "# 添加 1 個輸出層\n",
    "output_layer = add_layer(hidden_layer, input_tensors = 10, output_tensors = 1, activation_function = None)\n",
    "\n",
    "# 定義 `loss` 與要使用的 Optimizer\n",
    "with tf.name_scope('Loss'):\n",
    "    loss = tf.reduce_mean(tf.square(y_feeds - output_layer))\n",
    "with tf.name_scope('Train'):\n",
    "    optimizer = tf.train.GradientDescentOptimizer(learning_rate = 0.01)\n",
    "    train = optimizer.minimize(loss)\n",
    "\n",
    "# 初始化 Graph\n",
    "init = tf.global_variables_initializer()\n",
    "sess = tf.Session()\n",
    "\n",
    "# 將視覺化輸出\n",
    "writer = tf.summary.FileWriter(\"/notebooks/test/tensorboard/log/\", graph = sess.graph)\n",
    "\n",
    "# 開始運算\n",
    "sess.run(init)\n",
    "for step in range(201):\n",
    "    sess.run(train, feed_dict = {x_feeds: x_data, y_feeds: y_data})\n",
    "    #if step % 20 == 0:\n",
    "        #print(sess.run(loss, feed_dict = {x_feeds: x_data, y_feeds: y_data}))\n",
    "\n",
    "sess.close()\n"
   ]
  }
 ],
 "metadata": {
  "kernelspec": {
   "display_name": "Python 2",
   "language": "python",
   "name": "python2"
  },
  "language_info": {
   "codemirror_mode": {
    "name": "ipython",
    "version": 2
   },
   "file_extension": ".py",
   "mimetype": "text/x-python",
   "name": "python",
   "nbconvert_exporter": "python",
   "pygments_lexer": "ipython2",
   "version": "2.7.12"
  }
 },
 "nbformat": 4,
 "nbformat_minor": 2
}
