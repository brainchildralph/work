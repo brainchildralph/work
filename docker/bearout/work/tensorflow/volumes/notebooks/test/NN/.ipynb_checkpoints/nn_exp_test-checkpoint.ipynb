{
 "cells": [
  {
   "cell_type": "code",
   "execution_count": 1,
   "metadata": {},
   "outputs": [],
   "source": [
    "import numpy as np\n",
    "import tensorflow as tf\n",
    "x= np.random.randint(1,1000,100)"
   ]
  },
  {
   "cell_type": "code",
   "execution_count": 2,
   "metadata": {},
   "outputs": [
    {
     "name": "stdout",
     "output_type": "stream",
     "text": [
      "[ 35 558 744 672 962 326 493 689 515 644 943 504 255 249 149 934 660 688\n",
      " 719 984 471 507 326 863 581 840 911 562 469 185 556 982 740 633 637 230\n",
      " 494 876 441 172  65 612 612 675 296 475 428 867 156   1 494 761 564 768\n",
      " 865 628 894 611 765 911 220 931 211 203 981 329 319 209 974 834 265 557\n",
      " 550 391 186  53 288 713 519 717 308 757 100 990 984   5 334 175 187 171\n",
      " 127 915 158 519 800 777 341 785 364 842]\n"
     ]
    }
   ],
   "source": [
    "print(x)"
   ]
  },
  {
   "cell_type": "code",
   "execution_count": 3,
   "metadata": {},
   "outputs": [
    {
     "name": "stdout",
     "output_type": "stream",
     "text": [
      "18\n"
     ]
    }
   ],
   "source": [
    "y=np.random.randint(1,100)\n",
    "print(y)"
   ]
  },
  {
   "cell_type": "code",
   "execution_count": 4,
   "metadata": {
    "scrolled": false
   },
   "outputs": [
    {
     "name": "stdout",
     "output_type": "stream",
     "text": [
      "7.38905609893\n",
      "7.38905609893\n"
     ]
    }
   ],
   "source": [
    "def exp(n,t) :\n",
    "    v=0\n",
    "    for i in range(0,t+1):\n",
    "        d=np.math.factorial(i)\n",
    "        u=np.math.pow(n,i)\n",
    "        v=v+(u/d)\n",
    "    return v\n",
    "print(exp(2,100))\n",
    "print(np.math.pow(exp(1,100),2))\n"
   ]
  }
 ],
 "metadata": {
  "kernelspec": {
   "display_name": "Python 2",
   "language": "python",
   "name": "python2"
  },
  "language_info": {
   "codemirror_mode": {
    "name": "ipython",
    "version": 2
   },
   "file_extension": ".py",
   "mimetype": "text/x-python",
   "name": "python",
   "nbconvert_exporter": "python",
   "pygments_lexer": "ipython2",
   "version": "2.7.12"
  }
 },
 "nbformat": 4,
 "nbformat_minor": 2
}
