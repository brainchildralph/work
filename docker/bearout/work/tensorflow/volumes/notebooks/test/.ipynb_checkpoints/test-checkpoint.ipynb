{
 "cells": [
  {
   "cell_type": "code",
   "execution_count": 1,
   "metadata": {},
   "outputs": [],
   "source": [
    "import tensorflow as tf"
   ]
  },
  {
   "cell_type": "code",
   "execution_count": 2,
   "metadata": {
    "scrolled": true
   },
   "outputs": [],
   "source": [
    "import numpy as np"
   ]
  },
  {
   "cell_type": "markdown",
   "metadata": {},
   "source": [
    "生成100個小於1的浮點數"
   ]
  },
  {
   "cell_type": "code",
   "execution_count": 3,
   "metadata": {},
   "outputs": [],
   "source": [
    "x_data = np.random.rand(100).astype(np.float32)"
   ]
  },
  {
   "cell_type": "code",
   "execution_count": 4,
   "metadata": {
    "scrolled": true
   },
   "outputs": [
    {
     "name": "stdout",
     "output_type": "stream",
     "text": [
      "[0.35049495 0.24751681 0.4990037  0.11546166 0.4852732  0.6057713\n",
      " 0.6789454  0.5728129  0.3771613  0.5698823  0.44975716 0.92125726\n",
      " 0.8407702  0.8923365  0.9556095  0.22876485 0.20443556 0.6346381\n",
      " 0.22302632 0.55490005 0.82342654 0.44288683 0.43921405 0.9447348\n",
      " 0.92121017 0.11559577 0.36989734 0.09964409 0.8513343  0.5556411\n",
      " 0.5465223  0.14287387 0.18915832 0.93154824 0.79008895 0.4913034\n",
      " 0.745519   0.2122261  0.20829225 0.8380275  0.23462228 0.81868577\n",
      " 0.5666194  0.8730527  0.64325494 0.24025807 0.87371045 0.826189\n",
      " 0.46287662 0.25454864 0.652149   0.3932863  0.8660455  0.5632879\n",
      " 0.27860886 0.29584    0.05740353 0.4438791  0.49726158 0.98092926\n",
      " 0.35909915 0.04095946 0.2637875  0.41805518 0.4416814  0.46072426\n",
      " 0.04780424 0.12602    0.735635   0.18767105 0.71249413 0.7775479\n",
      " 0.87638336 0.0423873  0.8579811  0.6600037  0.6134149  0.40624085\n",
      " 0.3776586  0.52816546 0.768111   0.38827708 0.99462605 0.48995036\n",
      " 0.42644906 0.63517827 0.66346246 0.1316053  0.9943139  0.6218119\n",
      " 0.6442431  0.18232138 0.8410429  0.46752554 0.6855228  0.692645\n",
      " 0.05270481 0.64602846 0.03529393 0.5371283 ]\n"
     ]
    }
   ],
   "source": [
    "print(x_data)"
   ]
  },
  {
   "cell_type": "code",
   "execution_count": 5,
   "metadata": {},
   "outputs": [],
   "source": [
    "y_data = x_data*0.1+0.3"
   ]
  },
  {
   "cell_type": "code",
   "execution_count": 6,
   "metadata": {},
   "outputs": [
    {
     "name": "stdout",
     "output_type": "stream",
     "text": [
      "[0.3350495  0.3247517  0.3499004  0.31154618 0.34852734 0.36057714\n",
      " 0.36789456 0.3572813  0.33771613 0.35698825 0.34497574 0.39212573\n",
      " 0.38407704 0.38923365 0.39556098 0.32287648 0.32044357 0.36346382\n",
      " 0.32230264 0.35549003 0.38234267 0.3442887  0.34392142 0.3944735\n",
      " 0.39212102 0.3115596  0.33698976 0.30996442 0.38513345 0.35556412\n",
      " 0.35465226 0.3142874  0.31891584 0.39315483 0.37900892 0.34913036\n",
      " 0.37455192 0.32122263 0.32082924 0.38380277 0.32346225 0.3818686\n",
      " 0.35666195 0.3873053  0.36432552 0.3240258  0.38737106 0.3826189\n",
      " 0.34628767 0.3254549  0.3652149  0.33932865 0.38660455 0.35632882\n",
      " 0.3278609  0.329584   0.30574036 0.34438792 0.34972617 0.39809293\n",
      " 0.33590993 0.30409595 0.32637876 0.34180552 0.34416816 0.34607244\n",
      " 0.30478042 0.312602   0.37356353 0.31876713 0.37124944 0.3777548\n",
      " 0.38763836 0.30423874 0.38579813 0.36600038 0.3613415  0.3406241\n",
      " 0.33776587 0.35281655 0.37681112 0.33882773 0.3994626  0.34899506\n",
      " 0.34264493 0.36351785 0.36634627 0.31316054 0.3994314  0.36218122\n",
      " 0.36442432 0.31823215 0.3841043  0.34675255 0.3685523  0.3692645\n",
      " 0.3052705  0.36460286 0.3035294  0.35371286]\n"
     ]
    }
   ],
   "source": [
    "print(y_data)"
   ]
  },
  {
   "cell_type": "code",
   "execution_count": 7,
   "metadata": {},
   "outputs": [],
   "source": [
    "Weights = tf.Variable(tf.random_uniform([1],-1.0,1.0))"
   ]
  },
  {
   "cell_type": "code",
   "execution_count": 8,
   "metadata": {},
   "outputs": [
    {
     "name": "stdout",
     "output_type": "stream",
     "text": [
      "<tf.Variable 'Variable:0' shape=(1,) dtype=float32_ref>\n"
     ]
    }
   ],
   "source": [
    "print(Weights)"
   ]
  },
  {
   "cell_type": "code",
   "execution_count": 9,
   "metadata": {},
   "outputs": [],
   "source": [
    "biases = tf.Variable(tf.zeros([1]))"
   ]
  },
  {
   "cell_type": "code",
   "execution_count": 10,
   "metadata": {},
   "outputs": [],
   "source": [
    "y = Weights*x_data + biases"
   ]
  },
  {
   "cell_type": "code",
   "execution_count": 11,
   "metadata": {},
   "outputs": [],
   "source": [
    "loss = tf.reduce_mean(tf.square(y-y_data))"
   ]
  },
  {
   "cell_type": "code",
   "execution_count": 12,
   "metadata": {},
   "outputs": [],
   "source": [
    "optimizer = tf.train.GradientDescentOptimizer(0.5)  #learning rate"
   ]
  },
  {
   "cell_type": "code",
   "execution_count": 13,
   "metadata": {},
   "outputs": [],
   "source": [
    "train = optimizer.minimize(loss)"
   ]
  },
  {
   "cell_type": "code",
   "execution_count": 14,
   "metadata": {},
   "outputs": [
    {
     "name": "stdout",
     "output_type": "stream",
     "text": [
      "WARNING:tensorflow:From /usr/local/lib/python2.7/dist-packages/tensorflow/python/util/tf_should_use.py:189: initialize_all_variables (from tensorflow.python.ops.variables) is deprecated and will be removed after 2017-03-02.\n",
      "Instructions for updating:\n",
      "Use `tf.global_variables_initializer` instead.\n"
     ]
    }
   ],
   "source": [
    "#init = tf.initialize_all_variables()\n",
    "init = tf.global_variables_initializer()"
   ]
  },
  {
   "cell_type": "code",
   "execution_count": 15,
   "metadata": {},
   "outputs": [],
   "source": [
    "sess = tf.Session()"
   ]
  },
  {
   "cell_type": "code",
   "execution_count": 16,
   "metadata": {},
   "outputs": [],
   "source": [
    "sess.run(init) "
   ]
  },
  {
   "cell_type": "code",
   "execution_count": 17,
   "metadata": {
    "scrolled": false
   },
   "outputs": [
    {
     "name": "stdout",
     "output_type": "stream",
     "text": [
      "(0, array([0.50356007], dtype=float32), array([0.10502811], dtype=float32))\n",
      "(20, array([0.2205733], dtype=float32), array([0.23384753], dtype=float32))\n",
      "(40, array([0.13704784], dtype=float32), array([0.27967373], dtype=float32))\n",
      "(60, array([0.11138346], dtype=float32), array([0.2937545], dtype=float32))\n",
      "(80, array([0.10349774], dtype=float32), array([0.29808098], dtype=float32))\n",
      "(100, array([0.10107475], dtype=float32), array([0.29941034], dtype=float32))\n",
      "(120, array([0.10033023], dtype=float32), array([0.29981884], dtype=float32))\n",
      "(140, array([0.10010148], dtype=float32), array([0.29994434], dtype=float32))\n",
      "(160, array([0.10003119], dtype=float32), array([0.2999829], dtype=float32))\n",
      "(180, array([0.10000957], dtype=float32), array([0.29999477], dtype=float32))\n",
      "(200, array([0.10000293], dtype=float32), array([0.2999984], dtype=float32))\n"
     ]
    }
   ],
   "source": [
    "for step in range(201):\n",
    "    sess.run(train)\n",
    "    if step % 20 ==0:\n",
    "        print(step,sess.run(Weights),sess.run(biases))"
   ]
  },
  {
   "cell_type": "code",
   "execution_count": null,
   "metadata": {},
   "outputs": [],
   "source": []
  }
 ],
 "metadata": {
  "kernelspec": {
   "display_name": "Python 2",
   "language": "python",
   "name": "python2"
  },
  "language_info": {
   "codemirror_mode": {
    "name": "ipython",
    "version": 2
   },
   "file_extension": ".py",
   "mimetype": "text/x-python",
   "name": "python",
   "nbconvert_exporter": "python",
   "pygments_lexer": "ipython2",
   "version": "2.7.12"
  }
 },
 "nbformat": 4,
 "nbformat_minor": 2
}
